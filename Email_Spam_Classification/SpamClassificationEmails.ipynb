{
 "cells": [
  {
   "cell_type": "markdown",
   "id": "4e903bbc",
   "metadata": {},
   "source": [
    "## Binary Classification using Sklearn: Email Spam Classification"
   ]
  },
  {
   "cell_type": "markdown",
   "id": "7155cf70",
   "metadata": {},
   "source": [
    "The dataset has been downloaded from: https://www2.aueb.gr/users/ion/data/enron-spam/. Only Enron1 was used which contains two folders with spam and non-spam emails. Code apart from preprocessing is based on https://towardsdatascience.com/how-to-build-your-first-spam-classifier-in-10-steps-fdbf5b1b3870. "
   ]
  },
  {
   "cell_type": "code",
   "execution_count": 194,
   "id": "f6bc98be",
   "metadata": {},
   "outputs": [],
   "source": [
    "import os\n",
    "import pandas as pd\n",
    "import csv"
   ]
  },
  {
   "cell_type": "markdown",
   "id": "3c591fb4",
   "metadata": {},
   "source": [
    "## Preprocessing"
   ]
  },
  {
   "cell_type": "code",
   "execution_count": 135,
   "id": "caa28bac",
   "metadata": {},
   "outputs": [
    {
     "name": "stdout",
     "output_type": "stream",
     "text": [
      "1487 3672\n"
     ]
    }
   ],
   "source": [
    "# reset directory to Email Spam Classification\n",
    "#os.chdir(\"..\")\n",
    "#os.chdir(\"..\")\n",
    "\n",
    "# header for csv file\n",
    "header = ['spam', 'mail']\n",
    "\n",
    "# Merge all spam and ham files into one csv file\n",
    "\n",
    "with open(\"spamHam.csv\", \"w\", encoding='utf-8') as fout:\n",
    "    writer = csv.writer(fout)\n",
    "    writer.writerow(header)\n",
    "    # change directory to enron1/spam\n",
    "    os.chdir('enron1')\n",
    "    os.chdir('spam')\n",
    "    for file in os.listdir():\n",
    "        with open(file, \"r\") as fin:\n",
    "            try:\n",
    "                lol = list()\n",
    "                stringOfContent = \"\"\n",
    "                content = fin.readlines()\n",
    "                for line in content:\n",
    "                    stringOfContent+=line.replace(\"\\n\", \" \")\n",
    "                lol.append(\"spam\")\n",
    "                lol.append(stringOfContent)\n",
    "                writer.writerow(lol)\n",
    "                countSpam +=1\n",
    "                \n",
    "            except:\n",
    "                continue\n",
    "                \n",
    "     # change directory to enron1/ham\n",
    "    \n",
    "    os.chdir(\"..\")\n",
    "    os.chdir('ham')\n",
    "    for file in os.listdir():\n",
    "        with open(file, \"r\") as fin:\n",
    "            try:\n",
    "                lol = list()\n",
    "                stringOfContent = \"\"\n",
    "                content = fin.readlines()\n",
    "                for line in content:\n",
    "                    stringOfContent+=line.replace(\"\\n\", \" \")\n",
    "                lol.append(\"ham\")\n",
    "                lol.append(stringOfContent)\n",
    "                writer.writerow(lol)\n",
    "                countHam += 1\n",
    "                \n",
    "            except:\n",
    "                continue\n",
    "                "
   ]
  },
  {
   "cell_type": "markdown",
   "id": "2922b88e",
   "metadata": {},
   "source": [
    "## Exploring the data"
   ]
  },
  {
   "cell_type": "code",
   "execution_count": 227,
   "id": "45a9e707",
   "metadata": {},
   "outputs": [
    {
     "name": "stdout",
     "output_type": "stream",
     "text": [
      "/Users/rea/Documents/Email Spam Classification\n"
     ]
    },
    {
     "data": {
      "text/html": [
       "<div>\n",
       "<style scoped>\n",
       "    .dataframe tbody tr th:only-of-type {\n",
       "        vertical-align: middle;\n",
       "    }\n",
       "\n",
       "    .dataframe tbody tr th {\n",
       "        vertical-align: top;\n",
       "    }\n",
       "\n",
       "    .dataframe thead th {\n",
       "        text-align: right;\n",
       "    }\n",
       "</style>\n",
       "<table border=\"1\" class=\"dataframe\">\n",
       "  <thead>\n",
       "    <tr style=\"text-align: right;\">\n",
       "      <th></th>\n",
       "      <th>spam</th>\n",
       "      <th>mail</th>\n",
       "    </tr>\n",
       "  </thead>\n",
       "  <tbody>\n",
       "    <tr>\n",
       "      <th>0</th>\n",
       "      <td>spam</td>\n",
       "      <td>Subject: what up , , your cam babe what are yo...</td>\n",
       "    </tr>\n",
       "    <tr>\n",
       "      <th>1</th>\n",
       "      <td>spam</td>\n",
       "      <td>Subject: want to make more money ? order confi...</td>\n",
       "    </tr>\n",
       "    <tr>\n",
       "      <th>2</th>\n",
       "      <td>spam</td>\n",
       "      <td>Subject: food for thoughts [ join now - take a...</td>\n",
       "    </tr>\n",
       "    <tr>\n",
       "      <th>3</th>\n",
       "      <td>spam</td>\n",
       "      <td>Subject: miningnews . net newsletter - tuesday...</td>\n",
       "    </tr>\n",
       "    <tr>\n",
       "      <th>4</th>\n",
       "      <td>spam</td>\n",
       "      <td>Subject: your pharmacy ta would you want cheap...</td>\n",
       "    </tr>\n",
       "    <tr>\n",
       "      <th>...</th>\n",
       "      <td>...</td>\n",
       "      <td>...</td>\n",
       "    </tr>\n",
       "    <tr>\n",
       "      <th>5154</th>\n",
       "      <td>ham</td>\n",
       "      <td>Subject: class confirmation - stacey neuweiler...</td>\n",
       "    </tr>\n",
       "    <tr>\n",
       "      <th>5155</th>\n",
       "      <td>ham</td>\n",
       "      <td>Subject: hpl noms for april 27 , 2001 ( see at...</td>\n",
       "    </tr>\n",
       "    <tr>\n",
       "      <th>5156</th>\n",
       "      <td>ham</td>\n",
       "      <td>Subject: beaumont methanol - meter 1428 - octo...</td>\n",
       "    </tr>\n",
       "    <tr>\n",
       "      <th>5157</th>\n",
       "      <td>ham</td>\n",
       "      <td>Subject: re : free agents send me a request of...</td>\n",
       "    </tr>\n",
       "    <tr>\n",
       "      <th>5158</th>\n",
       "      <td>ham</td>\n",
       "      <td>Subject: associate &amp; analyst mid - year 2001 p...</td>\n",
       "    </tr>\n",
       "  </tbody>\n",
       "</table>\n",
       "<p>5159 rows × 2 columns</p>\n",
       "</div>"
      ],
      "text/plain": [
       "      spam                                               mail\n",
       "0     spam  Subject: what up , , your cam babe what are yo...\n",
       "1     spam  Subject: want to make more money ? order confi...\n",
       "2     spam  Subject: food for thoughts [ join now - take a...\n",
       "3     spam  Subject: miningnews . net newsletter - tuesday...\n",
       "4     spam  Subject: your pharmacy ta would you want cheap...\n",
       "...    ...                                                ...\n",
       "5154   ham  Subject: class confirmation - stacey neuweiler...\n",
       "5155   ham  Subject: hpl noms for april 27 , 2001 ( see at...\n",
       "5156   ham  Subject: beaumont methanol - meter 1428 - octo...\n",
       "5157   ham  Subject: re : free agents send me a request of...\n",
       "5158   ham  Subject: associate & analyst mid - year 2001 p...\n",
       "\n",
       "[5159 rows x 2 columns]"
      ]
     },
     "execution_count": 227,
     "metadata": {},
     "output_type": "execute_result"
    }
   ],
   "source": [
    "# reset directory to Email Spam Classification\n",
    "\n",
    "os.chdir(\"..\")\n",
    "os.chdir(\"..\")\n",
    "\n",
    "#os.chdir(\"/Users/rea/Documents/Email Spam Classification\")\n",
    "print(os.getcwd())\n",
    "\n",
    "df = pd.read_csv(r'spamHam.csv',encoding='ISO-8859-1')\n",
    "df.fillna('', inplace=True)\n",
    "df"
   ]
  },
  {
   "cell_type": "code",
   "execution_count": 228,
   "id": "e4f23f4a",
   "metadata": {},
   "outputs": [
    {
     "data": {
      "text/plain": [
       "ham     3672\n",
       "spam    1487\n",
       "Name: spam, dtype: int64"
      ]
     },
     "execution_count": 228,
     "metadata": {},
     "output_type": "execute_result"
    }
   ],
   "source": [
    "df['spam'].value_counts()"
   ]
  },
  {
   "cell_type": "code",
   "execution_count": 244,
   "id": "7b2310d9",
   "metadata": {},
   "outputs": [
    {
     "data": {
      "image/png": "[encoded data removed]",
      "text/plain": [
       "<Figure size 432x288 with 1 Axes>"
      ]
     },
     "metadata": {
      "needs_background": "light"
     },
     "output_type": "display_data"
    }
   ],
   "source": [
    "# displaying the most common words for ham mails\n",
    "\n",
    "from wordcloud import WordCloud, STOPWORDS\n",
    "import matplotlib.pyplot as plt\n",
    "\n",
    "# select ham rows\n",
    "hamdf = df.loc[df['spam'] == 'ham']\n",
    "stringHam = \" \".join(hamdf[\"mail\"])\n",
    "ham = WordCloud(max_words=20,background_color = \"white\", stopwords=set(STOPWORDS)).generate(stringHam)\n",
    "plt.imshow(ham)\n",
    "plt.axis(\"off\")\n",
    "plt.show()"
   ]
  },
  {
   "cell_type": "code",
   "execution_count": 245,
   "id": "6565924d",
   "metadata": {},
   "outputs": [
    {
     "data": {
      "image/png": "[encoded data removed]",
      "text/plain": [
       "<Figure size 432x288 with 1 Axes>"
      ]
     },
     "metadata": {
      "needs_background": "light"
     },
     "output_type": "display_data"
    }
   ],
   "source": [
    "# displaying the most common words for spam mails\n",
    "\n",
    "from wordcloud import WordCloud, STOPWORDS\n",
    "import matplotlib.pyplot as plt\n",
    "\n",
    "# select ham rows\n",
    "spamdf = df.loc[df['spam'] == 'spam']\n",
    "stringSpam = \" \".join(spamdf[\"mail\"])\n",
    "spam = WordCloud(max_words=20,background_color = \"white\", stopwords=set(STOPWORDS)).generate(stringSpam)\n",
    "plt.imshow(spam)\n",
    "plt.axis(\"off\")\n",
    "plt.show()"
   ]
  },
  {
   "cell_type": "markdown",
   "id": "e7f4edb3",
   "metadata": {},
   "source": [
    "### not very informative though..."
   ]
  },
  {
   "cell_type": "code",
   "execution_count": 175,
   "id": "485e45ff",
   "metadata": {},
   "outputs": [
    {
     "data": {
      "text/html": [
       "<div>\n",
       "<style scoped>\n",
       "    .dataframe tbody tr th:only-of-type {\n",
       "        vertical-align: middle;\n",
       "    }\n",
       "\n",
       "    .dataframe tbody tr th {\n",
       "        vertical-align: top;\n",
       "    }\n",
       "\n",
       "    .dataframe thead th {\n",
       "        text-align: right;\n",
       "    }\n",
       "</style>\n",
       "<table border=\"1\" class=\"dataframe\">\n",
       "  <thead>\n",
       "    <tr style=\"text-align: right;\">\n",
       "      <th></th>\n",
       "      <th>spam</th>\n",
       "      <th>mail</th>\n",
       "    </tr>\n",
       "  </thead>\n",
       "  <tbody>\n",
       "    <tr>\n",
       "      <th>0</th>\n",
       "      <td>1</td>\n",
       "      <td>Subject: what up , , your cam babe what are yo...</td>\n",
       "    </tr>\n",
       "    <tr>\n",
       "      <th>1</th>\n",
       "      <td>1</td>\n",
       "      <td>Subject: want to make more money ? order confi...</td>\n",
       "    </tr>\n",
       "    <tr>\n",
       "      <th>2</th>\n",
       "      <td>1</td>\n",
       "      <td>Subject: food for thoughts [ join now - take a...</td>\n",
       "    </tr>\n",
       "    <tr>\n",
       "      <th>3</th>\n",
       "      <td>1</td>\n",
       "      <td>Subject: miningnews . net newsletter - tuesday...</td>\n",
       "    </tr>\n",
       "    <tr>\n",
       "      <th>4</th>\n",
       "      <td>1</td>\n",
       "      <td>Subject: your pharmacy ta would you want cheap...</td>\n",
       "    </tr>\n",
       "    <tr>\n",
       "      <th>...</th>\n",
       "      <td>...</td>\n",
       "      <td>...</td>\n",
       "    </tr>\n",
       "    <tr>\n",
       "      <th>5154</th>\n",
       "      <td>0</td>\n",
       "      <td>Subject: class confirmation - stacey neuweiler...</td>\n",
       "    </tr>\n",
       "    <tr>\n",
       "      <th>5155</th>\n",
       "      <td>0</td>\n",
       "      <td>Subject: hpl noms for april 27 , 2001 ( see at...</td>\n",
       "    </tr>\n",
       "    <tr>\n",
       "      <th>5156</th>\n",
       "      <td>0</td>\n",
       "      <td>Subject: beaumont methanol - meter 1428 - octo...</td>\n",
       "    </tr>\n",
       "    <tr>\n",
       "      <th>5157</th>\n",
       "      <td>0</td>\n",
       "      <td>Subject: re : free agents send me a request of...</td>\n",
       "    </tr>\n",
       "    <tr>\n",
       "      <th>5158</th>\n",
       "      <td>0</td>\n",
       "      <td>Subject: associate &amp; analyst mid - year 2001 p...</td>\n",
       "    </tr>\n",
       "  </tbody>\n",
       "</table>\n",
       "<p>5159 rows × 2 columns</p>\n",
       "</div>"
      ],
      "text/plain": [
       "      spam                                               mail\n",
       "0        1  Subject: what up , , your cam babe what are yo...\n",
       "1        1  Subject: want to make more money ? order confi...\n",
       "2        1  Subject: food for thoughts [ join now - take a...\n",
       "3        1  Subject: miningnews . net newsletter - tuesday...\n",
       "4        1  Subject: your pharmacy ta would you want cheap...\n",
       "...    ...                                                ...\n",
       "5154     0  Subject: class confirmation - stacey neuweiler...\n",
       "5155     0  Subject: hpl noms for april 27 , 2001 ( see at...\n",
       "5156     0  Subject: beaumont methanol - meter 1428 - octo...\n",
       "5157     0  Subject: re : free agents send me a request of...\n",
       "5158     0  Subject: associate & analyst mid - year 2001 p...\n",
       "\n",
       "[5159 rows x 2 columns]"
      ]
     },
     "execution_count": 175,
     "metadata": {},
     "output_type": "execute_result"
    }
   ],
   "source": [
    "# convert spam/ham in numerical values (0 and 1)\n",
    "\n",
    "df['spam'] = df['spam'].apply(lambda x: 1 if x == 'spam' else 0)\n",
    "\n",
    "df"
   ]
  },
  {
   "cell_type": "code",
   "execution_count": 176,
   "id": "8cf4979a",
   "metadata": {},
   "outputs": [],
   "source": [
    "# split data\n",
    "from sklearn.model_selection import train_test_split"
   ]
  },
  {
   "cell_type": "code",
   "execution_count": 177,
   "id": "d94b3b82",
   "metadata": {},
   "outputs": [],
   "source": [
    "x_train, x_test, y_train, y_test = train_test_split(df['mail'], df['spam'], test_size = 0.3, random_state = 0)"
   ]
  },
  {
   "cell_type": "code",
   "execution_count": 178,
   "id": "f3209cae",
   "metadata": {},
   "outputs": [
    {
     "data": {
      "text/plain": [
       "2602    Subject: fw : customers - - - - - original mes...\n",
       "576     Subject: urgent assistance good day , i am kin...\n",
       "836     Subject: cruise 3 nts mexico only $ 197 ! - - ...\n",
       "3537    Subject: falcon / lone star transport darren ,...\n",
       "2759    Subject: hpl nomination for january 26 , 2000 ...\n",
       "                              ...                        \n",
       "4931    Subject: resume - anna cola anna cola is throu...\n",
       "3264    Subject: ena organizational changes ena \u0001 , s ...\n",
       "1653    Subject: i put in 35000 for the expected volum...\n",
       "2607    Subject: final - name change / mergers spreads...\n",
       "2732    Subject: fw : on call ( revised ) correction o...\n",
       "Name: mail, Length: 3611, dtype: object"
      ]
     },
     "execution_count": 178,
     "metadata": {},
     "output_type": "execute_result"
    }
   ],
   "source": [
    "x_train "
   ]
  },
  {
   "cell_type": "code",
   "execution_count": 179,
   "id": "7dd2ff94",
   "metadata": {},
   "outputs": [
    {
     "data": {
      "text/plain": [
       "2602    0\n",
       "576     1\n",
       "836     1\n",
       "3537    0\n",
       "2759    0\n",
       "       ..\n",
       "4931    0\n",
       "3264    0\n",
       "1653    0\n",
       "2607    0\n",
       "2732    0\n",
       "Name: spam, Length: 3611, dtype: int64"
      ]
     },
     "execution_count": 179,
     "metadata": {},
     "output_type": "execute_result"
    }
   ],
   "source": [
    "y_train"
   ]
  },
  {
   "cell_type": "code",
   "execution_count": 180,
   "id": "c755e70c",
   "metadata": {},
   "outputs": [
    {
     "name": "stdout",
     "output_type": "stream",
     "text": [
      "rows in test set: (1548,)\n",
      "rows in train set: (3611,)\n"
     ]
    }
   ],
   "source": [
    "print('rows in test set: ' + str(x_test.shape))\n",
    "print('rows in train set: ' + str(x_train.shape))"
   ]
  },
  {
   "cell_type": "markdown",
   "id": "65d6e7cc",
   "metadata": {},
   "source": [
    "## Apply Tf-IDF Vectorizer for Feature Extraction"
   ]
  },
  {
   "cell_type": "code",
   "execution_count": 181,
   "id": "70431eac",
   "metadata": {},
   "outputs": [],
   "source": [
    "from sklearn.feature_extraction.text import TfidfVectorizer,CountVectorizer"
   ]
  },
  {
   "cell_type": "code",
   "execution_count": 183,
   "id": "743c5e55",
   "metadata": {},
   "outputs": [],
   "source": [
    "lst = x_train.tolist()\n",
    "\n",
    "vectorizer = TfidfVectorizer(\n",
    "input=lst ,  # input is the actual text\n",
    "lowercase=True,      # convert to lowercase before tokenizing\n",
    "stop_words='english' # remove stop words\n",
    ")\n",
    "features_train_transformed = vectorizer.fit_transform(lst) #gives tf idf vector for x_train\n",
    "\n",
    "features_test_transformed  = vectorizer.transform(x_test) #gives tf idf vector for x_test"
   ]
  },
  {
   "cell_type": "code",
   "execution_count": 184,
   "id": "f694ea70",
   "metadata": {},
   "outputs": [],
   "source": [
    "countvectorizer = CountVectorizer(\n",
    "    input=lst, \n",
    "    lowercase=True, \n",
    "    stop_words='english')\n",
    "\n",
    "features_train_transformed.C = countvectorizer.fit_transform(lst) \n",
    "features_test_transformed.C  = countvectorizer.transform(x_test) "
   ]
  },
  {
   "cell_type": "markdown",
   "id": "76553774",
   "metadata": {},
   "source": [
    "## Logistic Regression"
   ]
  },
  {
   "cell_type": "code",
   "execution_count": 185,
   "id": "df5fe0d3",
   "metadata": {},
   "outputs": [],
   "source": [
    "from sklearn.linear_model import LogisticRegression"
   ]
  },
  {
   "cell_type": "code",
   "execution_count": 186,
   "id": "110eb575",
   "metadata": {},
   "outputs": [
    {
     "data": {
      "text/plain": [
       "LogisticRegression()"
      ]
     },
     "execution_count": 186,
     "metadata": {},
     "output_type": "execute_result"
    }
   ],
   "source": [
    "classifier = LogisticRegression()\n",
    "classifier.fit(features_train_transformed, y_train)"
   ]
  },
  {
   "cell_type": "markdown",
   "id": "09d0080d",
   "metadata": {},
   "source": [
    "## Model accuracy\n"
   ]
  },
  {
   "cell_type": "code",
   "execution_count": 187,
   "id": "b2a630f6",
   "metadata": {},
   "outputs": [
    {
     "name": "stdout",
     "output_type": "stream",
     "text": [
      "classifier accuracy 0.99\n"
     ]
    }
   ],
   "source": [
    "print(\"classifier accuracy {:.2f}\".format(classifier.score(features_test_transformed, y_test)))"
   ]
  },
  {
   "cell_type": "code",
   "execution_count": 188,
   "id": "75f981e6",
   "metadata": {},
   "outputs": [],
   "source": [
    "from sklearn.metrics import f1_score\n",
    "from sklearn.metrics import confusion_matrix\n",
    "from sklearn.metrics import accuracy_score\n",
    "from sklearn.metrics import classification_report"
   ]
  },
  {
   "cell_type": "code",
   "execution_count": 189,
   "id": "69149f18",
   "metadata": {},
   "outputs": [
    {
     "name": "stdout",
     "output_type": "stream",
     "text": [
      "Confusion Matrix :\n",
      "[[1098   11]\n",
      " [   3  436]]\n",
      "Accuracy Score : 0.9909560723514211\n",
      "Report : \n",
      "              precision    recall  f1-score   support\n",
      "\n",
      "           0       1.00      0.99      0.99      1109\n",
      "           1       0.98      0.99      0.98       439\n",
      "\n",
      "    accuracy                           0.99      1548\n",
      "   macro avg       0.99      0.99      0.99      1548\n",
      "weighted avg       0.99      0.99      0.99      1548\n",
      "\n",
      "F-Measure: 0.984\n"
     ]
    }
   ],
   "source": [
    "actual = y_test.tolist() # our gold-standard\n",
    "predicted = classifier.predict(features_test_transformed) # we are generating the predictions based on the trained model \n",
    "\n",
    "results = confusion_matrix(actual, predicted)\n",
    "\n",
    "print('Confusion Matrix :')\n",
    "print(results)\n",
    "print ('Accuracy Score :',accuracy_score(actual, predicted))\n",
    "\n",
    "print ('Report : ')\n",
    "print (classification_report(actual, predicted) )\n",
    "score_2 = f1_score(actual, predicted, average = 'binary')\n",
    "print('F-Measure: %.3f' % score_2)"
   ]
  }
 ],
 "metadata": {
  "kernelspec": {
   "display_name": "Python 3 (ipykernel)",
   "language": "python",
   "name": "python3"
  },
  "language_info": {
   "codemirror_mode": {
    "name": "ipython",
    "version": 3
   },
   "file_extension": ".py",
   "mimetype": "text/x-python",
   "name": "python",
   "nbconvert_exporter": "python",
   "pygments_lexer": "ipython3",
   "version": "3.8.12"
  }
 },
 "nbformat": 4,
 "nbformat_minor": 5
}
