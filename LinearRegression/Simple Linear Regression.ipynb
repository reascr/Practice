{
 "cells": [
  {
   "cell_type": "markdown",
   "id": "7d6094e3",
   "metadata": {},
   "source": [
    "## Simple Linear Regression\n",
    "The dataset has been downloaded from: https://www.kaggle.com/datasets/andonians/random-linear-regression. It contains two folders with the training and test set for linear regression."
   ]
  },
  {
   "cell_type": "markdown",
   "id": "33feed1b",
   "metadata": {},
   "source": [
    "### Exploring the data"
   ]
  },
  {
   "cell_type": "code",
   "execution_count": 1,
   "id": "e9241680",
   "metadata": {},
   "outputs": [],
   "source": [
    "import os\n",
    "import pandas as pd\n",
    "import csv"
   ]
  },
  {
   "cell_type": "code",
   "execution_count": 2,
   "id": "0272491c",
   "metadata": {},
   "outputs": [
    {
     "name": "stdout",
     "output_type": "stream",
     "text": [
      "(700, 2)\n",
      "(300, 2)\n"
     ]
    },
    {
     "data": {
      "text/html": [
       "<div>\n",
       "<style scoped>\n",
       "    .dataframe tbody tr th:only-of-type {\n",
       "        vertical-align: middle;\n",
       "    }\n",
       "\n",
       "    .dataframe tbody tr th {\n",
       "        vertical-align: top;\n",
       "    }\n",
       "\n",
       "    .dataframe thead th {\n",
       "        text-align: right;\n",
       "    }\n",
       "</style>\n",
       "<table border=\"1\" class=\"dataframe\">\n",
       "  <thead>\n",
       "    <tr style=\"text-align: right;\">\n",
       "      <th></th>\n",
       "      <th>x</th>\n",
       "      <th>y</th>\n",
       "    </tr>\n",
       "  </thead>\n",
       "  <tbody>\n",
       "    <tr>\n",
       "      <th>0</th>\n",
       "      <td>24.0</td>\n",
       "      <td>21.549452</td>\n",
       "    </tr>\n",
       "    <tr>\n",
       "      <th>1</th>\n",
       "      <td>50.0</td>\n",
       "      <td>47.464463</td>\n",
       "    </tr>\n",
       "    <tr>\n",
       "      <th>2</th>\n",
       "      <td>15.0</td>\n",
       "      <td>17.218656</td>\n",
       "    </tr>\n",
       "    <tr>\n",
       "      <th>3</th>\n",
       "      <td>38.0</td>\n",
       "      <td>36.586398</td>\n",
       "    </tr>\n",
       "    <tr>\n",
       "      <th>4</th>\n",
       "      <td>87.0</td>\n",
       "      <td>87.288984</td>\n",
       "    </tr>\n",
       "    <tr>\n",
       "      <th>...</th>\n",
       "      <td>...</td>\n",
       "      <td>...</td>\n",
       "    </tr>\n",
       "    <tr>\n",
       "      <th>695</th>\n",
       "      <td>58.0</td>\n",
       "      <td>58.595006</td>\n",
       "    </tr>\n",
       "    <tr>\n",
       "      <th>696</th>\n",
       "      <td>93.0</td>\n",
       "      <td>94.625094</td>\n",
       "    </tr>\n",
       "    <tr>\n",
       "      <th>697</th>\n",
       "      <td>82.0</td>\n",
       "      <td>88.603770</td>\n",
       "    </tr>\n",
       "    <tr>\n",
       "      <th>698</th>\n",
       "      <td>66.0</td>\n",
       "      <td>63.648685</td>\n",
       "    </tr>\n",
       "    <tr>\n",
       "      <th>699</th>\n",
       "      <td>97.0</td>\n",
       "      <td>94.975266</td>\n",
       "    </tr>\n",
       "  </tbody>\n",
       "</table>\n",
       "<p>700 rows × 2 columns</p>\n",
       "</div>"
      ],
      "text/plain": [
       "        x          y\n",
       "0    24.0  21.549452\n",
       "1    50.0  47.464463\n",
       "2    15.0  17.218656\n",
       "3    38.0  36.586398\n",
       "4    87.0  87.288984\n",
       "..    ...        ...\n",
       "695  58.0  58.595006\n",
       "696  93.0  94.625094\n",
       "697  82.0  88.603770\n",
       "698  66.0  63.648685\n",
       "699  97.0  94.975266\n",
       "\n",
       "[700 rows x 2 columns]"
      ]
     },
     "execution_count": 2,
     "metadata": {},
     "output_type": "execute_result"
    }
   ],
   "source": [
    "cwd = os.getcwd()\n",
    "\n",
    "# data used to train the model\n",
    "trainingSet = os.path.join(cwd, 'SimpleLinearRegression/train.csv') \n",
    "# data used to test the model\n",
    "testSet = os.path.join(cwd, 'SimpleLinearRegression/test.csv')\n",
    "\n",
    "dfTest = pd.read_csv(trainingSet)\n",
    "print(dfTest.shape)\n",
    "\n",
    "dfTrain = pd.read_csv(testSet)\n",
    "print(dfTrain.shape)\n",
    "\n",
    "dfTest"
   ]
  },
  {
   "cell_type": "markdown",
   "id": "917d4194",
   "metadata": {},
   "source": [
    "### Plotting the data"
   ]
  },
  {
   "cell_type": "code",
   "execution_count": 10,
   "id": "3c3dce1e",
   "metadata": {},
   "outputs": [
    {
     "data": {
      "image/png": "[encoded data removed]",
      "text/plain": [
       "<Figure size 432x288 with 2 Axes>"
      ]
     },
     "metadata": {
      "needs_background": "light"
     },
     "output_type": "display_data"
    }
   ],
   "source": [
    "import matplotlib.pyplot as plt\n",
    "import numpy as np\n",
    "\n",
    "# plotting only with pandas\n",
    "#dfTest.plot(x ='x', y='y', kind = 'scatter')\n",
    "#dfTrain.plot(x='x', y='y', kind = 'scatter')\n",
    "\n",
    "# scatter plots with plt\n",
    "\n",
    "plt.subplot(1, 2, 1)\n",
    "plt.scatter(dfTest['x'], dfTest['y'], c='paleturquoise')\n",
    "plt.title(\"Test data set\")\n",
    "plt.ylabel('y')\n",
    "plt.xlabel('x')\n",
    "\n",
    "plt.subplot(1, 2, 2)\n",
    "plt.scatter(dfTrain['x'], dfTrain['y'], c='paleturquoise')\n",
    "plt.title(\"Training data set\")\n",
    "plt.ylabel('y')\n",
    "plt.xlabel('x')\n",
    "\n",
    "plt.tight_layout()\n",
    "plt.show()\n"
   ]
  },
  {
   "cell_type": "code",
   "execution_count": 4,
   "id": "1fbf1d81",
   "metadata": {},
   "outputs": [],
   "source": [
    "# transforming DataSeries in numpy arrays \n",
    "\n",
    "x_train = dfTrain['x'].to_numpy()\n",
    "y_train = dfTrain['y'].to_numpy()\n",
    "x_test = dfTest['x'].to_numpy()\n",
    "y_test = dfTest['x'].to_numpy()\n"
   ]
  },
  {
   "cell_type": "markdown",
   "id": "04b09273",
   "metadata": {},
   "source": [
    "### Implement cost function\n",
    "For our model fw,b(x) = w*x +b we want to find a value for the parameters w,b that result in a very small cost function J(w,b). Here we are working with the training data."
   ]
  },
  {
   "cell_type": "code",
   "execution_count": 5,
   "id": "424a71a7",
   "metadata": {},
   "outputs": [],
   "source": [
    "def cost_function(w,b, x_train, y_train):\n",
    "    '''\n",
    "    Computes the cost\n",
    "    '''\n",
    "    m = x_train.shape[0]\n",
    "    cost = 0\n",
    "    for i in range(m):\n",
    "        fwb_xi = w* x_train[i] + b\n",
    "        loss = (fwb_xi - y_train[i])**2\n",
    "        cost += loss\n",
    "    cost = cost/(2*m)\n",
    "    return cost"
   ]
  },
  {
   "cell_type": "code",
   "execution_count": 6,
   "id": "05f97cf2",
   "metadata": {},
   "outputs": [
    {
     "name": "stdout",
     "output_type": "stream",
     "text": [
      "4.701365516566364\n",
      "4.692173300761365\n"
     ]
    }
   ],
   "source": [
    "print(cost_function(1,0,x_train,y_train))\n",
    "print(cost_function(1,0.5,x_train,y_train))"
   ]
  },
  {
   "cell_type": "code",
   "execution_count": 7,
   "id": "2a731fae",
   "metadata": {},
   "outputs": [],
   "source": [
    "# plot regression line and x_train,y_train values \n",
    "\n",
    "def predicted_y(w,b,x_train):\n",
    "    '''\n",
    "    Computes the predicted y values\n",
    "    Args: \n",
    "      x_train (ndarray (m,)): training data, m examples \n",
    "      w, b (scalars): model parameters\n",
    "    Returns\n",
    "      pred_y (ndarray): The values of y predicted by the model fbx(xi) = w*xi + b\n",
    "    '''\n",
    "    m = x_train.shape[0]\n",
    "    pred_y = list()\n",
    "    for i in range(m):\n",
    "        fbx_xi = w*x_train[i] + b\n",
    "        pred_y.append(fbx_xi)\n",
    "    pred_y = np.array(pred_y)\n",
    "    return pred_y"
   ]
  },
  {
   "cell_type": "code",
   "execution_count": 11,
   "id": "7d4d2abd",
   "metadata": {},
   "outputs": [
    {
     "data": {
      "image/png": "[encoded data removed]",
      "text/plain": [
       "<Figure size 432x288 with 1 Axes>"
      ]
     },
     "metadata": {
      "needs_background": "light"
     },
     "output_type": "display_data"
    }
   ],
   "source": [
    "pred_y = predicted_y(1,0,x_train)\n",
    "\n",
    "plt.scatter(x_train, y_train, c='paleturquoise')\n",
    "plt.plot(x_train, pred_y, c='fuchsia')\n",
    "plt.title(\"Training data and regression line\")\n",
    "plt.ylabel('y')\n",
    "plt.xlabel('x')\n",
    "plt.show()"
   ]
  },
  {
   "cell_type": "markdown",
   "id": "3167174b",
   "metadata": {},
   "source": [
    "### Implement gradient descent"
   ]
  },
  {
   "cell_type": "code",
   "execution_count": 12,
   "id": "3dad8fc0",
   "metadata": {},
   "outputs": [],
   "source": [
    "# compute derivatives\n",
    "def compute_derivatives(w,b,x_train,y_train):\n",
    "    m = x_train.shape[0]\n",
    "    dw = 0\n",
    "    db = 0\n",
    "    for i in range(m):\n",
    "        fwb_xi = w*x_train[i] + b\n",
    "        dw_i = (fwb_xi - y_train[i]) * x_train[i]\n",
    "        db_i = (fwb_xi - y_train[i])\n",
    "        dw += dw_i\n",
    "        db += db_i\n",
    "    dw = (1/m) * dw\n",
    "    db = (1/m) * db\n",
    "    return dw, db\n",
    "\n",
    "# gradient descent\n",
    "def gradient_descent(w,b,x_train,y_train,alpha,n_iter, cost_function, compute_gradient):\n",
    "    for i in range(n_iter):\n",
    "        \n",
    "        \n",
    "    "
   ]
  },
  {
   "cell_type": "markdown",
   "id": "a75fcb3d",
   "metadata": {},
   "source": [
    "### Comparison with sklearn"
   ]
  },
  {
   "cell_type": "code",
   "execution_count": null,
   "id": "d5b7911a",
   "metadata": {},
   "outputs": [],
   "source": []
  }
 ],
 "metadata": {
  "kernelspec": {
   "display_name": "Python 3 (ipykernel)",
   "language": "python",
   "name": "python3"
  },
  "language_info": {
   "codemirror_mode": {
    "name": "ipython",
    "version": 3
   },
   "file_extension": ".py",
   "mimetype": "text/x-python",
   "name": "python",
   "nbconvert_exporter": "python",
   "pygments_lexer": "ipython3",
   "version": "3.8.12"
  }
 },
 "nbformat": 4,
 "nbformat_minor": 5
}
