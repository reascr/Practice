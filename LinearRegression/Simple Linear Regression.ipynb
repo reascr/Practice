{
 "cells": [
  {
   "cell_type": "markdown",
   "id": "7d6094e3",
   "metadata": {},
   "source": [
    "## Simple Linear Regression\n",
    "Exploring linear regression with one feature.\n",
    "The dataset has been downloaded from: https://www.kaggle.com/datasets/andonians/random-linear-regression. It contains two folders with the training and test set for linear regression. Partially based on Course 1 of the Machine Learning Specialization "
   ]
  },
  {
   "cell_type": "markdown",
   "id": "33feed1b",
   "metadata": {},
   "source": [
    "### Exploring the data"
   ]
  },
  {
   "cell_type": "code",
   "execution_count": 1,
   "id": "e9241680",
   "metadata": {},
   "outputs": [],
   "source": [
    "import os\n",
    "import pandas as pd\n",
    "import csv"
   ]
  },
  {
   "cell_type": "code",
   "execution_count": 2,
   "id": "0272491c",
   "metadata": {},
   "outputs": [
    {
     "name": "stdout",
     "output_type": "stream",
     "text": [
      "(700, 2)\n",
      "(300, 2)\n"
     ]
    },
    {
     "data": {
      "text/plain": [
       "(        x          y\n",
       " 0    24.0  21.549452\n",
       " 1    50.0  47.464463\n",
       " 2    15.0  17.218656\n",
       " 3    38.0  36.586398\n",
       " 4    87.0  87.288984\n",
       " ..    ...        ...\n",
       " 695  58.0  58.595006\n",
       " 696  93.0  94.625094\n",
       " 697  82.0  88.603770\n",
       " 698  66.0  63.648685\n",
       " 699  97.0  94.975266\n",
       " \n",
       " [700 rows x 2 columns],\n",
       "       x          y\n",
       " 0    77  79.775152\n",
       " 1    21  23.177279\n",
       " 2    22  25.609262\n",
       " 3    20  17.857388\n",
       " 4    36  41.849864\n",
       " ..   ..        ...\n",
       " 295  71  68.545888\n",
       " 296  46  47.334876\n",
       " 297  55  54.090637\n",
       " 298  62  63.297171\n",
       " 299  47  52.459467\n",
       " \n",
       " [300 rows x 2 columns])"
      ]
     },
     "execution_count": 2,
     "metadata": {},
     "output_type": "execute_result"
    }
   ],
   "source": [
    "cwd = os.getcwd()\n",
    "\n",
    "# data used to train the model\n",
    "trainingSet = os.path.join(cwd, 'SimpleLinearRegression/train.csv') \n",
    "\n",
    "# data used to test the model\n",
    "testSet = os.path.join(cwd, 'SimpleLinearRegression/test.csv')\n",
    "\n",
    "dfTest = pd.read_csv(trainingSet)\n",
    "print(dfTest.shape)\n",
    "\n",
    "dfTrain = pd.read_csv(testSet)\n",
    "print(dfTrain.shape)\n",
    "\n",
    "dfTest, dfTrain"
   ]
  },
  {
   "cell_type": "code",
   "execution_count": 3,
   "id": "c1c9cffc",
   "metadata": {},
   "outputs": [
    {
     "data": {
      "text/html": [
       "<div>\n",
       "<style scoped>\n",
       "    .dataframe tbody tr th:only-of-type {\n",
       "        vertical-align: middle;\n",
       "    }\n",
       "\n",
       "    .dataframe tbody tr th {\n",
       "        vertical-align: top;\n",
       "    }\n",
       "\n",
       "    .dataframe thead th {\n",
       "        text-align: right;\n",
       "    }\n",
       "</style>\n",
       "<table border=\"1\" class=\"dataframe\">\n",
       "  <thead>\n",
       "    <tr style=\"text-align: right;\">\n",
       "      <th></th>\n",
       "      <th>x</th>\n",
       "      <th>y</th>\n",
       "    </tr>\n",
       "  </thead>\n",
       "  <tbody>\n",
       "    <tr>\n",
       "      <th>count</th>\n",
       "      <td>700.000000</td>\n",
       "      <td>699.000000</td>\n",
       "    </tr>\n",
       "    <tr>\n",
       "      <th>mean</th>\n",
       "      <td>54.985939</td>\n",
       "      <td>49.939869</td>\n",
       "    </tr>\n",
       "    <tr>\n",
       "      <th>std</th>\n",
       "      <td>134.681703</td>\n",
       "      <td>29.109217</td>\n",
       "    </tr>\n",
       "    <tr>\n",
       "      <th>min</th>\n",
       "      <td>0.000000</td>\n",
       "      <td>-3.839981</td>\n",
       "    </tr>\n",
       "    <tr>\n",
       "      <th>25%</th>\n",
       "      <td>25.000000</td>\n",
       "      <td>24.929968</td>\n",
       "    </tr>\n",
       "    <tr>\n",
       "      <th>50%</th>\n",
       "      <td>49.000000</td>\n",
       "      <td>48.973020</td>\n",
       "    </tr>\n",
       "    <tr>\n",
       "      <th>75%</th>\n",
       "      <td>75.000000</td>\n",
       "      <td>74.929911</td>\n",
       "    </tr>\n",
       "    <tr>\n",
       "      <th>max</th>\n",
       "      <td>3530.157369</td>\n",
       "      <td>108.871618</td>\n",
       "    </tr>\n",
       "  </tbody>\n",
       "</table>\n",
       "</div>"
      ],
      "text/plain": [
       "                 x           y\n",
       "count   700.000000  699.000000\n",
       "mean     54.985939   49.939869\n",
       "std     134.681703   29.109217\n",
       "min       0.000000   -3.839981\n",
       "25%      25.000000   24.929968\n",
       "50%      49.000000   48.973020\n",
       "75%      75.000000   74.929911\n",
       "max    3530.157369  108.871618"
      ]
     },
     "execution_count": 3,
     "metadata": {},
     "output_type": "execute_result"
    }
   ],
   "source": [
    "dfTest.describe()"
   ]
  },
  {
   "cell_type": "code",
   "execution_count": 4,
   "id": "e252b6a5",
   "metadata": {},
   "outputs": [],
   "source": [
    "# checking for null values\n",
    "dfTest.isna().sum()\n",
    "\n",
    "# removing null values\n",
    "dfTest = dfTest.dropna(subset=['y'],axis=0)"
   ]
  },
  {
   "cell_type": "markdown",
   "id": "1f1a86c7",
   "metadata": {},
   "source": [
    "### Plotting the data"
   ]
  },
  {
   "cell_type": "code",
   "execution_count": 5,
   "id": "b979e51b",
   "metadata": {},
   "outputs": [
    {
     "data": {
      "image/png": "[encoded data removed]",
      "text/plain": [
       "<Figure size 432x288 with 2 Axes>"
      ]
     },
     "metadata": {
      "needs_background": "light"
     },
     "output_type": "display_data"
    }
   ],
   "source": [
    "import matplotlib.pyplot as plt\n",
    "import numpy as np\n",
    "\n",
    "# plotting with pandas only\n",
    "#dfTest.plot(x ='x', y='y', kind = 'scatter')\n",
    "#dfTrain.plot(x='x', y='y', kind = 'scatter')\n",
    "\n",
    "# scatter plots with plt\n",
    "\n",
    "plt.subplot(1, 2, 1)\n",
    "plt.scatter(dfTest['x'], dfTest['y'], c='paleturquoise')\n",
    "plt.title(\"Test data set\")\n",
    "plt.ylabel('y')\n",
    "plt.xlabel('x')\n",
    "\n",
    "plt.subplot(1, 2, 2)\n",
    "plt.scatter(dfTrain['x'], dfTrain['y'], c='paleturquoise')\n",
    "plt.title(\"Training data set\")\n",
    "plt.ylabel('y')\n",
    "plt.xlabel('x')\n",
    "\n",
    "plt.tight_layout()\n",
    "plt.show()"
   ]
  },
  {
   "cell_type": "code",
   "execution_count": 6,
   "id": "308df13c",
   "metadata": {},
   "outputs": [],
   "source": [
    "# transforming DataSeries into numpy arrays \n",
    "\n",
    "x_train = dfTrain['x'].to_numpy()\n",
    "y_train = dfTrain['y'].to_numpy()\n",
    "x_test = dfTest['x'].to_numpy()\n",
    "y_test = dfTest['x'].to_numpy()\n"
   ]
  },
  {
   "cell_type": "markdown",
   "id": "0c8d053e",
   "metadata": {},
   "source": [
    "### Implementing cost function\n",
    "For our model $f_{w,b}$(x) = w*x + b we want to find a value for the parameters w,b that result in a very small cost function J(w,b)."
   ]
  },
  {
   "cell_type": "code",
   "execution_count": 7,
   "id": "6aae291c",
   "metadata": {},
   "outputs": [],
   "source": [
    "def cost_function(w,b, x_train, y_train):\n",
    "    '''\n",
    "    Computes the cost of the hypothesis function with the parameters w and b.\n",
    "    Args: \n",
    "        w, b (scalars): model parameters\n",
    "        x_train (ndarray (m,)): training data, m examples\n",
    "        y_train (ndarray (m,)): training data, m examples\n",
    "    Returns\n",
    "        cost (float): The cost of the hypothesis function\n",
    "      \n",
    "    '''\n",
    "    m = x_train.shape[0]\n",
    "    cost = 0\n",
    "    for i in range(m):\n",
    "        fwb_xi = w* x_train[i] + b\n",
    "        loss = (fwb_xi - y_train[i])**2\n",
    "        cost += loss\n",
    "    cost = cost/(2*m)\n",
    "    return cost"
   ]
  },
  {
   "cell_type": "code",
   "execution_count": 8,
   "id": "8f1c3226",
   "metadata": {},
   "outputs": [
    {
     "name": "stdout",
     "output_type": "stream",
     "text": [
      "4.701365516566364\n",
      "4.692173300761365\n"
     ]
    }
   ],
   "source": [
    "print(cost_function(1,0,x_train,y_train))\n",
    "print(cost_function(1,0.5,x_train,y_train))"
   ]
  },
  {
   "cell_type": "code",
   "execution_count": 9,
   "id": "41f4ab6e",
   "metadata": {},
   "outputs": [],
   "source": [
    "# plot regression line and x_train,y_train values \n",
    "\n",
    "def predicted_y(w,b,x_train):\n",
    "    '''\n",
    "    Computes the predicted y values of a hypothesis function or model.\n",
    "    Args: \n",
    "        x_train (ndarray (m,)): training data, m examples \n",
    "        w, b (scalars): model parameters\n",
    "    Returns\n",
    "        pred_y (ndarray): The values of y predicted by the model fbx(xi) = w*xi + b\n",
    "    '''\n",
    "    m = x_train.shape[0]\n",
    "    pred_y = list()\n",
    "    for i in range(m):\n",
    "        fbx_xi = w*x_train[i] + b\n",
    "        pred_y.append(fbx_xi)\n",
    "    pred_y = np.array(pred_y)\n",
    "    return pred_y"
   ]
  },
  {
   "cell_type": "code",
   "execution_count": 10,
   "id": "e3c4373d",
   "metadata": {},
   "outputs": [
    {
     "data": {
      "image/png": "[encoded data removed]",
      "text/plain": [
       "<Figure size 432x288 with 1 Axes>"
      ]
     },
     "metadata": {
      "needs_background": "light"
     },
     "output_type": "display_data"
    }
   ],
   "source": [
    "pred_y = predicted_y(1,0,x_train)\n",
    "\n",
    "plt.scatter(x_train, y_train, c='paleturquoise')\n",
    "plt.plot(x_train, pred_y, c='fuchsia')\n",
    "plt.title(\"Training data and regression line\")\n",
    "plt.ylabel('y')\n",
    "plt.xlabel('x')\n",
    "plt.show()"
   ]
  },
  {
   "cell_type": "markdown",
   "id": "f4e3b12a",
   "metadata": {},
   "source": [
    "### Implementing gradient descent (batch or vanilla gradient descent)"
   ]
  },
  {
   "cell_type": "code",
   "execution_count": 11,
   "id": "25b1d651",
   "metadata": {},
   "outputs": [],
   "source": [
    "# compute derivatives\n",
    "def compute_derivatives(w,b,x_train,y_train):\n",
    "    '''\n",
    "    Computes the partial derivatives of the cost function with respect to w,b.\n",
    "    Args:\n",
    "        w, b (scalars): model parameters\n",
    "        x_train (ndarray (m,)): training data, m examples\n",
    "        y_train (ndarray (m,)): training data, m examples\n",
    "    Returns\n",
    "        dw (float): partial derivative with respect to w\n",
    "        db (float): partial derivative with respect to b\n",
    "\n",
    "    '''\n",
    "    m = x_train.shape[0]\n",
    "    dw = 0\n",
    "    db = 0\n",
    "    for i in range(m):\n",
    "        fwb_xi = w*x_train[i] + b\n",
    "        dw_i = (fwb_xi - y_train[i]) * x_train[i]\n",
    "        db_i = (fwb_xi - y_train[i])\n",
    "        dw += dw_i\n",
    "        db += db_i\n",
    "    dw = (1/m) * dw\n",
    "    db = (1/m) * db\n",
    "    return dw, db\n",
    "\n",
    "# gradient descent\n",
    "def gradient_descent(w,b,x_train,y_train,alpha,n_iter, cost_function, compute_derivatives):\n",
    "    '''\n",
    "    Performs gradient descent to fit w,b. \n",
    "    Args:\n",
    "        w, b (scalars): initial values of model parameters\n",
    "        x_train (ndarray (m,)): training data, m examples\n",
    "        y_train (ndarray (m,)): target values, m examples\n",
    "        alpha (float): learning rate\n",
    "        n_iter (int): number of iterations to run gradient descent\n",
    "        cost_function (function): function to compute the cost of the hypothesis function\n",
    "        compute_derivatives (function): function to compute derivatives (gradient)\n",
    "    Returns\n",
    "        w, b (scalar): updated and final parameters for w, b \n",
    "        costs (list of floats): costs for all w and b (for plotting)\n",
    "        iterations (list of ints): all iterations from 1 to n (for plotting)\n",
    "    '''\n",
    "\n",
    "\n",
    "    # list of costs at certain iterations (for plotting)\n",
    "    costs = []\n",
    "    iterations = list(range(1,n_iter+1))\n",
    "    \n",
    "    for i in range(n_iter):\n",
    "        # simultaneously update w and b until convergence\n",
    "        tmp_w = w - alpha* compute_derivatives(w,b,x_train,y_train)[0]\n",
    "        tmp_b = b - alpha* compute_derivatives(w,b,x_train,y_train)[1]\n",
    "        w = tmp_w\n",
    "        b = tmp_b\n",
    "        costs.append(cost_function(w,b, x_train, y_train))\n",
    "        \n",
    "    return w, b, costs, iterations"
   ]
  },
  {
   "cell_type": "code",
   "execution_count": 12,
   "id": "331d62e1",
   "metadata": {},
   "outputs": [
    {
     "name": "stdout",
     "output_type": "stream",
     "text": [
      "Parameters found by gradient descent: w=1.0073672985218645 and b=0.003863730635833524!\n"
     ]
    }
   ],
   "source": [
    "w_final, b_final, costs, iterations = gradient_descent(0,0,x_train,y_train, 0.0001, 1000, cost_function,compute_derivatives)\n",
    "print(f\"Parameters found by gradient descent: w={w_final} and b={b_final}!\")"
   ]
  },
  {
   "cell_type": "markdown",
   "id": "9390bee6",
   "metadata": {},
   "source": [
    "## make sure it works properly"
   ]
  },
  {
   "cell_type": "code",
   "execution_count": 13,
   "id": "77f5d922",
   "metadata": {},
   "outputs": [
    {
     "data": {
      "image/png": "[encoded data removed]",
      "text/plain": [
       "<Figure size 432x288 with 1 Axes>"
      ]
     },
     "metadata": {
      "needs_background": "light"
     },
     "output_type": "display_data"
    }
   ],
   "source": [
    "plt.plot(iterations, costs, c='fuchsia')\n",
    "plt.title(\"Cost function over n iterations\")\n",
    "plt.ylabel('cost function')\n",
    "plt.xlabel('iterations')\n",
    "plt.show()"
   ]
  },
  {
   "cell_type": "markdown",
   "id": "1e478504",
   "metadata": {},
   "source": [
    "### the learning rate obviously is too high, let's decrease it"
   ]
  },
  {
   "cell_type": "code",
   "execution_count": 14,
   "id": "2b6685b1",
   "metadata": {},
   "outputs": [
    {
     "name": "stdout",
     "output_type": "stream",
     "text": [
      "Parameters found by gradient descent: w=0.29071149581324596 and b=0.004338678182377295!\n"
     ]
    },
    {
     "data": {
      "image/png": "[encoded data removed]",
      "text/plain": [
       "<Figure size 432x288 with 1 Axes>"
      ]
     },
     "metadata": {
      "needs_background": "light"
     },
     "output_type": "display_data"
    }
   ],
   "source": [
    "w_final, b_final, costs, iterations = gradient_descent(0,0,x_train,y_train, 0.0000001, 1000, cost_function,compute_derivatives)\n",
    "print(f\"Parameters found by gradient descent: w={w_final} and b={b_final}!\")\n",
    "\n",
    "plt.plot(iterations, costs, c='fuchsia')\n",
    "plt.title(\"Cost function over n iterations\")\n",
    "plt.ylabel('cost function')\n",
    "plt.xlabel('iterations')\n",
    "plt.show()"
   ]
  },
  {
   "cell_type": "markdown",
   "id": "6c5cf88e",
   "metadata": {},
   "source": [
    "### learning rate is too low, let's increase it"
   ]
  },
  {
   "cell_type": "code",
   "execution_count": 15,
   "id": "c79a7091",
   "metadata": {},
   "outputs": [
    {
     "name": "stdout",
     "output_type": "stream",
     "text": [
      "Parameters found by gradient descent: w=0.9739522393419257 and b=0.014460178658334419!\n"
     ]
    },
    {
     "data": {
      "image/png": "[encoded data removed]",
      "text/plain": [
       "<Figure size 432x288 with 1 Axes>"
      ]
     },
     "metadata": {
      "needs_background": "light"
     },
     "output_type": "display_data"
    }
   ],
   "source": [
    "w_final, b_final, costs, iterations = gradient_descent(0,0,x_train,y_train, 0.000001, 1000, cost_function,compute_derivatives)\n",
    "print(f\"Parameters found by gradient descent: w={w_final} and b={b_final}!\")\n",
    "\n",
    "plt.plot(iterations, costs, c='fuchsia')\n",
    "plt.title(\"Cost function over n iterations\")\n",
    "plt.ylabel('cost function')\n",
    "plt.xlabel('iterations')\n",
    "plt.show()"
   ]
  },
  {
   "cell_type": "markdown",
   "id": "e89ba547",
   "metadata": {},
   "source": [
    "### looks better! "
   ]
  },
  {
   "cell_type": "markdown",
   "id": "51ed6e13",
   "metadata": {},
   "source": [
    "### Comparison with scikit-learn\n",
    "Code based on: https://scikit-learn.org/stable/auto_examples/linear_model/plot_ols.html#sphx-glr-auto-examples-linear-model-plot-ols-py."
   ]
  },
  {
   "cell_type": "code",
   "execution_count": 16,
   "id": "ac7e1236",
   "metadata": {},
   "outputs": [
    {
     "name": "stdout",
     "output_type": "stream",
     "text": [
      "[-0.46181077]\n",
      "Coefficients: \n",
      " [[1.01433536]]\n",
      "Mean squared error: 0.24\n",
      "Coefficient of determination: 1.00\n"
     ]
    },
    {
     "data": {
      "image/png": "[encoded data removed]",
      "text/plain": [
       "<Figure size 432x288 with 1 Axes>"
      ]
     },
     "metadata": {},
     "output_type": "display_data"
    }
   ],
   "source": [
    "from sklearn import datasets, linear_model\n",
    "from sklearn.metrics import mean_squared_error, r2_score\n",
    "\n",
    "# Create linear regression object\n",
    "regr = linear_model.LinearRegression()\n",
    "\n",
    "# Train the model using the training sets\n",
    "\n",
    "regr.fit(x_train.reshape(-1, 1), y_train.reshape(-1, 1))\n",
    "\n",
    "# Make predictions using the testing set\n",
    "y_pred = regr.predict(x_test.reshape(-1, 1))\n",
    "\n",
    "# interception\n",
    "print(regr.intercept_)\n",
    "\n",
    "# The coefficients\n",
    "print(\"Coefficients: \\n\", regr.coef_)\n",
    "\n",
    "# The mean squared error\n",
    "print(\"Mean squared error: %.2f\" % mean_squared_error(y_test, y_pred))\n",
    "\n",
    "# The coefficient of determination: 1 is perfect prediction\n",
    "print(\"Coefficient of determination: %.2f\" % r2_score(y_test, y_pred))\n",
    "\n",
    "# Plot outputs\n",
    "plt.scatter(x_test, y_test, color=\"paleturquoise\", s=200)\n",
    "plt.plot(x_test, y_pred, color=\"fuchsia\", linewidth=3)\n",
    "\n",
    "plt.xticks(())\n",
    "plt.yticks(())\n",
    "\n",
    "plt.show()"
   ]
  }
 ],
 "metadata": {
  "kernelspec": {
   "display_name": "Python 3 (ipykernel)",
   "language": "python",
   "name": "python3"
  },
  "language_info": {
   "codemirror_mode": {
    "name": "ipython",
    "version": 3
   },
   "file_extension": ".py",
   "mimetype": "text/x-python",
   "name": "python",
   "nbconvert_exporter": "python",
   "pygments_lexer": "ipython3",
   "version": "3.8.12"
  }
 },
 "nbformat": 4,
 "nbformat_minor": 5
}
